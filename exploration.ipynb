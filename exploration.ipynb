{
 "cells": [
  {
   "cell_type": "markdown",
   "id": "957844b7-a42b-4143-97e1-0a403170c46d",
   "metadata": {},
   "source": [
    "# Trying out reddit scraping using PRAW"
   ]
  },
  {
   "cell_type": "code",
   "execution_count": null,
   "id": "65469353-ae8f-457d-848c-e3633659a5be",
   "metadata": {},
   "outputs": [],
   "source": []
  }
 ],
 "metadata": {
  "kernelspec": {
   "display_name": "Python 3 (ipykernel)",
   "language": "python",
   "name": "python3"
  },
  "language_info": {
   "codemirror_mode": {
    "name": "ipython",
    "version": 3
   },
   "file_extension": ".py",
   "mimetype": "text/x-python",
   "name": "python",
   "nbconvert_exporter": "python",
   "pygments_lexer": "ipython3",
   "version": "3.11.3"
  }
 },
 "nbformat": 4,
 "nbformat_minor": 5
}
